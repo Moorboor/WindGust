{
 "cells": [
  {
   "cell_type": "code",
   "execution_count": 1,
   "metadata": {},
   "outputs": [],
   "source": [
    "import numpy as np\n",
    "import matplotlib.pyplot as plt\n",
    "import os\n",
    "import seaborn as sns\n",
    "import pandas as pd\n",
    "\n",
    "from tqdm import tqdm"
   ]
  },
  {
   "cell_type": "code",
   "execution_count": 66,
   "metadata": {},
   "outputs": [],
   "source": [
    "DIRNAME = os.path.abspath(\"\")\n",
    "PLOTS_PATH = os.path.join(DIRNAME, \"Plots\")\n",
    "DATA_DIR = os.path.join(os.path.dirname(DIRNAME), \"FINO1Data\")\n",
    "ARRAY_PATH = os.path.join(DIRNAME, \"Arrays\")\n",
    "\n",
    "\n",
    "os.makedirs(ARRAY_PATH, exist_ok=True)\n",
    "os.makedirs(PLOTS_PATH, exist_ok=True)\n",
    "\n",
    "dnames = os.listdir(ARRAY_PATH)\n",
    "performances = {fname.replace(\".csv\", \"\"): pd.read_csv(os.path.join(ARRAY_PATH, fname)) for fname in os.listdir(ARRAY_PATH) if fname.endswith(\".csv\")}"
   ]
  },
  {
   "cell_type": "code",
   "execution_count": 67,
   "metadata": {},
   "outputs": [],
   "source": [
    "def plot_roc(*, fname, performances):\n",
    "\n",
    "    colors = sns.color_palette(\"rocket_r\", performances.shape[0])\n",
    "    _ = plt.figure(1, figsize=(5,5))\n",
    "\n",
    "    i = 0\n",
    "    for x in performances.to_numpy():\n",
    "        plt.plot(x[2], x[1], \"o\", color=colors[i], markersize=2)\n",
    "        i += 1\n",
    "\n",
    "    plt.plot(np.arange(2), linestyle=\"--\", color='#0f0f0f30')\n",
    "\n",
    "\n",
    "    plt.grid(linewidth=0.4, alpha=0.8)\n",
    "    plt.xlim(0,1)\n",
    "    plt.ylim(0,1)\n",
    "\n",
    "    plt.minorticks_on()\n",
    "    plt.tick_params(direction=\"in\", which=\"major\", length=7, bottom=True, top=True, right=True)\n",
    "    plt.tick_params(direction=\"in\", which=\"minor\", length=2.5, bottom=True, top=True, right=True)\n",
    "    plt.xlabel(\"False positive rate\", fontsize=14)\n",
    "    plt.ylabel(\"True positive rate\", fontsize=14)\n",
    "\n",
    "    #plt.suptitle(\"Integral method\", fontsize=16)\n",
    "    #plt.title(f\"$AR({p})$, \" + r\"$\\tau$\" + f\"={train_per}, \" + r\"$\\Xi_{opt}$\" + f\"={xi:.3f}\")\n",
    "    #plt.legend(title=\"Exceeding probability\", fontsize=10, bbox_to_anchor=(1.02,1.1))\n",
    "\n",
    "    plt.savefig(os.path.join(PLOTS_PATH, f\"{fname}.png\"), format=\"png\", dpi=300, bbox_inches=\"tight\")\n",
    "    plt.close()\n",
    "    "
   ]
  },
  {
   "cell_type": "code",
   "execution_count": 68,
   "metadata": {},
   "outputs": [],
   "source": [
    "for fname, performance in performances.items():\n",
    "\n",
    "    performance = performance.drop(\"Unnamed: 0\", axis=1)\n",
    "    plot_roc(fname=fname, performances=performance)\n",
    "\n",
    "    "
   ]
  },
  {
   "cell_type": "code",
   "execution_count": null,
   "metadata": {},
   "outputs": [],
   "source": []
  },
  {
   "cell_type": "code",
   "execution_count": null,
   "metadata": {},
   "outputs": [],
   "source": []
  }
 ],
 "metadata": {
  "kernelspec": {
   "display_name": "torch",
   "language": "python",
   "name": "python3"
  },
  "language_info": {
   "codemirror_mode": {
    "name": "ipython",
    "version": 3
   },
   "file_extension": ".py",
   "mimetype": "text/x-python",
   "name": "python",
   "nbconvert_exporter": "python",
   "pygments_lexer": "ipython3",
   "version": "3.10.6"
  },
  "orig_nbformat": 4
 },
 "nbformat": 4,
 "nbformat_minor": 2
}
