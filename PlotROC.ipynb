{
 "cells": [
  {
   "cell_type": "code",
   "execution_count": 1,
   "metadata": {},
   "outputs": [],
   "source": [
    "import numpy as np\n",
    "import matplotlib.pyplot as plt\n",
    "import os\n",
    "import seaborn as sns\n",
    "import pandas as pd\n",
    "import re\n",
    "from tqdm import tqdm"
   ]
  },
  {
   "cell_type": "code",
   "execution_count": 2,
   "metadata": {},
   "outputs": [],
   "source": [
    "DIRNAME = os.path.abspath(\"\")\n",
    "PLOTS_PATH = os.path.join(DIRNAME, \"Plots\")\n",
    "DATA_DIR = os.path.join(os.path.dirname(DIRNAME), \"FINO1Data\")\n",
    "ARRAY_PATH = os.path.join(DIRNAME, \"Arrays\")\n",
    "\n",
    "\n",
    "os.makedirs(ARRAY_PATH, exist_ok=True)\n",
    "os.makedirs(PLOTS_PATH, exist_ok=True)\n",
    "\n",
    "dnames = os.listdir(ARRAY_PATH)\n",
    "performances = {fname.replace(\".csv\", \"\"): pd.read_csv(os.path.join(ARRAY_PATH, fname)) for fname in os.listdir(ARRAY_PATH) if fname.endswith(\".csv\")}"
   ]
  },
  {
   "cell_type": "code",
   "execution_count": 3,
   "metadata": {},
   "outputs": [],
   "source": [
    "def plot_roc(*, fname, performances):\n",
    "\n",
    "    colors = sns.color_palette(\"rocket_r\", performances.shape[0])\n",
    "    _ = plt.figure(1, figsize=(5,5))\n",
    "\n",
    "    i = 0\n",
    "    for x in performances.to_numpy():\n",
    "        plt.plot(x[2], x[1], \"o\", color=colors[i], markersize=2)\n",
    "        i += 1\n",
    "\n",
    "    plt.plot(np.arange(2), linestyle=\"--\", color='#0f0f0f30')\n",
    "\n",
    "\n",
    "    plt.grid(linewidth=0.4, alpha=0.8)\n",
    "    plt.xlim(0,1)\n",
    "    plt.ylim(0,1)\n",
    "\n",
    "    plt.minorticks_on()\n",
    "    plt.tick_params(direction=\"in\", which=\"major\", length=7, bottom=True, top=True, right=True)\n",
    "    plt.tick_params(direction=\"in\", which=\"minor\", length=2.5, bottom=True, top=True, right=True)\n",
    "    plt.xlabel(\"False positive rate\", fontsize=14)\n",
    "    plt.ylabel(\"True positive rate\", fontsize=14)\n",
    "\n",
    "    #plt.suptitle(\"Integral method\", fontsize=16)\n",
    "    #plt.title(f\"$AR({p})$, \" + r\"$\\tau$\" + f\"={train_per}, \" + r\"$\\Xi_{opt}$\" + f\"={xi:.3f}\")\n",
    "    #plt.legend(title=\"Exceeding probability\", fontsize=10, bbox_to_anchor=(1.02,1.1))\n",
    "\n",
    "    plt.savefig(os.path.join(PLOTS_PATH, f\"{fname}.png\"), format=\"png\", dpi=300, bbox_inches=\"tight\")\n",
    "    plt.close()\n",
    "    "
   ]
  },
  {
   "cell_type": "code",
   "execution_count": 4,
   "metadata": {},
   "outputs": [],
   "source": [
    "for fname, performance in performances.items():\n",
    "    performance = performance.drop(\"Unnamed: 0\", axis=1)\n",
    "    plot_roc(fname=fname, performances=performance)\n",
    "\n",
    "    "
   ]
  },
  {
   "cell_type": "code",
   "execution_count": 5,
   "metadata": {},
   "outputs": [],
   "source": [
    "xis = {}\n",
    "for fname, performance in performances.items():\n",
    "    xi_match = re.search(r\"xi=([\\d.]+)\", fname)\n",
    "    xi_value = xi_match.group(1) if xi_match else None\n",
    "\n",
    "    # Extract training period\n",
    "    train_per_match = re.search(r\"training_per=(\\d+)\", fname)\n",
    "    train_per = train_per_match.group(1) if train_per_match else None\n",
    "\n",
    "    # Display the extracted values\n",
    "    xis[int(train_per)] = np.float32(xi_value)"
   ]
  },
  {
   "cell_type": "code",
   "execution_count": 6,
   "metadata": {},
   "outputs": [
    {
     "data": {
      "text/plain": [
       "[11,\n",
       " 12,\n",
       " 15,\n",
       " 20,\n",
       " 26,\n",
       " 37,\n",
       " 39,\n",
       " 42,\n",
       " 44,\n",
       " 47,\n",
       " 50,\n",
       " 53,\n",
       " 56,\n",
       " 60,\n",
       " 63,\n",
       " 67,\n",
       " 71,\n",
       " 75,\n",
       " 80,\n",
       " 85,\n",
       " 90,\n",
       " 96,\n",
       " 102,\n",
       " 134]"
      ]
     },
     "execution_count": 6,
     "metadata": {},
     "output_type": "execute_result"
    }
   ],
   "source": [
    "xis_ordered = sorted(xis)\n",
    "xis_ordered"
   ]
  },
  {
   "cell_type": "code",
   "execution_count": 7,
   "metadata": {},
   "outputs": [
    {
     "data": {
      "image/png": "[encoded data removed]",
      "text/plain": [
       "<Figure size 1500x500 with 1 Axes>"
      ]
     },
     "metadata": {},
     "output_type": "display_data"
    }
   ],
   "source": [
    "_ = plt.figure(figsize=(15,5))\n",
    "plt.scatter(xis_ordered, [xis[x] for x in xis_ordered])\n",
    "plt.xlabel(r\"training period: $\\tau$\", fontsize=10)\n",
    "plt.ylabel(r\"$\\Xi_{opt}$\", fontsize=15)\n",
    "plt.xscale(\"log\")"
   ]
  },
  {
   "cell_type": "code",
   "execution_count": null,
   "metadata": {},
   "outputs": [],
   "source": []
  }
 ],
 "metadata": {
  "kernelspec": {
   "display_name": "torch",
   "language": "python",
   "name": "python3"
  },
  "language_info": {
   "codemirror_mode": {
    "name": "ipython",
    "version": 3
   },
   "file_extension": ".py",
   "mimetype": "text/x-python",
   "name": "python",
   "nbconvert_exporter": "python",
   "pygments_lexer": "ipython3",
   "version": "3.10.6"
  },
  "orig_nbformat": 4
 },
 "nbformat": 4,
 "nbformat_minor": 2
}
